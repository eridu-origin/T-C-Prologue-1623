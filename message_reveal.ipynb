{
  "nbformat": 4,
  "nbformat_minor": 0,
  "metadata": {
    "colab": {
      "provenance": [],
      "collapsed_sections": [],
      "authorship_tag": "ABX9TyMPXwhcbZQXibTOP+doPhvW",
      "include_colab_link": true
    },
    "kernelspec": {
      "name": "python3",
      "display_name": "Python 3"
    },
    "language_info": {
      "name": "python"
    }
  },
  "cells": [
    {
      "cell_type": "markdown",
      "metadata": {
        "id": "view-in-github",
        "colab_type": "text"
      },
      "source": [
        "<a href=\"https://colab.research.google.com/github/FB-Decipherer/T-C-Prologue-1623/blob/main/message_reveal.ipynb\" target=\"_parent\"><img src=\"https://colab.research.google.com/assets/colab-badge.svg\" alt=\"Open In Colab\"/></a>"
      ]
    },
    {
      "cell_type": "code",
      "source": [
        "from google.colab import drive\n",
        "drive.mount('/content/drive')"
      ],
      "metadata": {
        "colab": {
          "base_uri": "https://localhost:8080/"
        },
        "id": "j699N0LzHNro",
        "outputId": "afd6f824-a8e4-4809-eda2-83f27998cff6"
      },
      "execution_count": 10,
      "outputs": [
        {
          "output_type": "stream",
          "name": "stdout",
          "text": [
            "Drive already mounted at /content/drive; to attempt to forcibly remount, call drive.mount(\"/content/drive\", force_remount=True).\n"
          ]
        }
      ]
    },
    {
      "cell_type": "code",
      "execution_count": 11,
      "metadata": {
        "colab": {
          "base_uri": "https://localhost:8080/"
        },
        "id": "vmjASdpKHDoh",
        "outputId": "9097b75e-45da-4591-b9b1-27e235a7f540"
      },
      "outputs": [
        {
          "output_type": "stream",
          "name": "stdout",
          "text": [
            "BABBAe\n",
            "Your answer was: e\n"
          ]
        }
      ],
      "source": [
        "letter = {\n",
        "    'AAAAA': 'A',\n",
        "    'AAAAB': 'B',\n",
        "    'AAABA': 'C',\n",
        "    'AAABB': 'D',\n",
        "    'AABAA': 'E',\n",
        "    'AABAB': 'F',\n",
        "    'AABBA': 'G',\n",
        "    'AABBB': 'H',\n",
        "    'ABAAA': 'I',\n",
        "    'ABAAB': 'K',\n",
        "    'ABABA': 'L',\n",
        "    'ABABB': 'M',\n",
        "    'ABBAA': 'N',\n",
        "    'ABBAB': 'O',\n",
        "    'ABBBA': 'P',\n",
        "    'ABBBB': 'Q',\n",
        "    'BAAAA': 'R',\n",
        "    'BAAAB': 'S',\n",
        "    'BAABA': 'T',\n",
        "    'BAABB': 'V',\n",
        "    'BABAA': 'W',\n",
        "    'BABAB': 'X',\n",
        "    'BABBA': 'Y',\n",
        "    'BABBB': 'Z',\n",
        "}\n",
        "which = 'BAABB'\n",
        "answer = input('BABBA')\n",
        "print(\"Your answer was: \" + answer)\n",
        "\n",
        "\n"
      ]
    }
  ]
}