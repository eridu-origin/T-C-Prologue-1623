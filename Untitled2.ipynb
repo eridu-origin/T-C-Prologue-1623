{
  "nbformat": 4,
  "nbformat_minor": 0,
  "metadata": {
    "colab": {
      "provenance": [],
      "collapsed_sections": [],
      "authorship_tag": "ABX9TyO4W7GhY2Qx/NfYNI1BMgdV",
      "include_colab_link": true
    },
    "kernelspec": {
      "name": "python3",
      "display_name": "Python 3"
    },
    "language_info": {
      "name": "python"
    }
  },
  "cells": [
    {
      "cell_type": "markdown",
      "metadata": {
        "id": "view-in-github",
        "colab_type": "text"
      },
      "source": [
        "<a href=\"https://colab.research.google.com/github/FB-Decipherer/T-C-Prologue-1623/blob/main/Untitled2.ipynb\" target=\"_parent\"><img src=\"https://colab.research.google.com/assets/colab-badge.svg\" alt=\"Open In Colab\"/></a>"
      ]
    },
    {
      "cell_type": "code",
      "execution_count": null,
      "metadata": {
        "id": "BzzGhOVi_hY6"
      },
      "outputs": [],
      "source": [
        "\n",
        "from google.colab import drive\n",
        "drive.mount('/content/drive')"
      ]
    },
    {
      "cell_type": "code",
      "source": [
        "letter: dict[str, str] = {\n",
        "    'AAAAA': 'A',\n",
        "    'AAAAB': 'B',\n",
        "    'AAABA': 'C',\n",
        "    'AAABB': 'D',\n",
        "    'AABAA': 'E',\n",
        "    'AABAB': 'F',\n",
        "    'AABBA': 'G',\n",
        "    'AABBB': 'H',\n",
        "    'ABAAA': 'I',\n",
        "    'ABAAB': 'K',\n",
        "    'ABABA': 'L',\n",
        "    'ABABB': 'M',\n",
        "    'ABBAA': 'N',\n",
        "    'ABBAB': 'O',\n",
        "    'ABBBA': 'P',\n",
        "    'ABBBB': 'Q',\n",
        "    'BAAAA': 'R',\n",
        "    'BAAAB': 'S',\n",
        "    'BAABA': 'T',\n",
        "    'BAABB': 'V',\n",
        "    'BABAA': 'W',\n",
        "    'BABAB': 'X',\n",
        "    'BABBA': 'Y',\n",
        "    'BABBB': 'Z'\n",
        "}\n",
        "\n",
        "which = 'BAABB'\n",
        "\n",
        "answer = input()\n",
        "print(\"Your answer was: \" + answer)\n"
      ],
      "metadata": {
        "id": "NuamFwJCAcmv"
      },
      "execution_count": null,
      "outputs": []
    }
  ]
}